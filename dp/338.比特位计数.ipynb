{
 "cells": [
  {
   "cell_type": "markdown",
   "metadata": {
    "collapsed": true,
    "pycharm": {
     "name": "#%% md\n"
    }
   },
   "source": [
    "这道题其实先把100的结果暴力计算出来，就能发现是有规律\n",
    "\"\"\"\n",
    "0 0\n",
    "1 1\n",
    "2 1\n",
    "3 2\n",
    "\n",
    "4 1\n",
    "5 2\n",
    "6 2\n",
    "7 3\n",
    "\n",
    "8 1\n",
    "9 2\n",
    "10 2\n",
    "11 3\n",
    "\n",
    "12 2 1100 \n",
    "13 3\n",
    "14 3\n",
    "15 4\n",
    "\n",
    "16 1\n",
    "17 2\n",
    "18 2\n",
    "19 3\n",
    "\n",
    "20 2\n",
    "21 3\n",
    "22 3\n",
    "23 4\n",
    "\n",
    "24 2\n",
    "25 3\n",
    "26 3\n",
    "27 4\n",
    "\n",
    "28 3 \n",
    "29 4\n",
    "30 4\n",
    "31 5\n",
    "\n",
    "32 1\n",
    "33 2\n",
    "34 2\n",
    "35 3\n",
    "\n",
    "36 2 \n",
    "37 3\n",
    "38 3\n",
    "39 4\n",
    "\n",
    "40 2\n",
    "41 3\n",
    "42 3\n",
    "43 4\n",
    "\n",
    "\n",
    "97 3\n",
    "98 3\n",
    "99 4\n",
    "100 3\n",
    "都是四个一组一组的\n",
    "\"\"\"\n",
    "\n",
    "\n"
   ]
  }
 ],
 "metadata": {
  "kernelspec": {
   "display_name": "Python 3",
   "language": "python",
   "name": "python3"
  },
  "language_info": {
   "codemirror_mode": {
    "name": "ipython",
    "version": 2
   },
   "file_extension": ".py",
   "mimetype": "text/x-python",
   "name": "python",
   "nbconvert_exporter": "python",
   "pygments_lexer": "ipython2",
   "version": "2.7.6"
  },
  "pycharm": {
   "stem_cell": {
    "cell_type": "raw",
    "source": [],
    "metadata": {
     "collapsed": false
    }
   }
  }
 },
 "nbformat": 4,
 "nbformat_minor": 0
}