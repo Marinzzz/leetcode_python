#%% md
这道题属于升级版
加上的限制是第一个房子和最后一个房子只能选择一个偷
一定不偷第一个 即rob(nums[1:])
一定不偷最后一个 即 rob(nums[:-1])
两者中选出较大的那个即可
#%%
class Solution:
    def rob_1(self, nums): # 没有dp数组的情况
        if not nums:
            return 0
        if len(nums) < 2:
            return nums[0]
        prev = nums[0]
        now = max(nums[0], nums[1])
        for i in range(2, len(nums)):
            temp = max(prev + nums[i], now)
            prev = now
            now = temp
        return now
    def rob(self, nums):
         r1 = self.rob_1(nums[1:])
         r2 = self.rob_1(nums[:-1])
         return max(r1, r2)