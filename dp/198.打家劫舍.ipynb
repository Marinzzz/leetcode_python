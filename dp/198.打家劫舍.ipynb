{
 "cells": [
  {
   "cell_type": "markdown",
   "metadata": {
    "collapsed": true,
    "pycharm": {
     "name": "#%% md\n"
    }
   },
   "source": [
    "这个系列有两道题，这是第一道  \n",
    "属于dp题，可以省略常用的dp数组"
   ]
  },
  {
   "cell_type": "markdown",
   "source": [
    "存在dp数组的情况  \n",
    "dp[i] 截至到i时可以偷的最大收益\n",
    "初始状态：  \n",
    "```\n",
    "nums = [1,2,3,4,5]\n",
    "dp = [0] * len(nums)\n",
    "dp[0] = nums[0]\n",
    "dp[1] = max(dp[0], nums[1])\n",
    "```\n",
    "状态转移\n",
    "```\n",
    "dp[i] = max(dp[i - 1], dp[i - 2] + nums[i])\n",
    "for i in range(2,len(nums))\n",
    "```"
   ],
   "metadata": {
    "collapsed": false,
    "pycharm": {
     "name": "#%% md\n"
    }
   }
  },
  {
   "cell_type": "code",
   "source": [
    "class Solution:\n",
    "    def rob(self, nums: list[int]) -> int:\n",
    "        if not nums:\n",
    "            return 0\n",
    "        if len(nums) < 2:\n",
    "            return nums[0]\n",
    "        dp = [0] * len(nums)\n",
    "        dp[0] = nums[0]\n",
    "        dp[1] = max(nums[0], nums[1])\n",
    "        for i in range(2, len(nums)):\n",
    "            dp[i] = max(dp[i - 1], dp[i - 2] + nums[i])\n",
    "        return dp[-1] \n",
    "    \n",
    "    def rob_1(self, nums): # 没有dp数组的情况\n",
    "        if not nums:\n",
    "            return 0\n",
    "        if len(nums) < 2:\n",
    "            return nums[0]\n",
    "        prev = nums[0]\n",
    "        now = max(nums[0], nums[1])\n",
    "        for i in range(2, len(nums)):\n",
    "            temp = max(prev + nums[i], now)\n",
    "            prev = now\n",
    "            now = temp\n",
    "        return now"
   ],
   "metadata": {
    "collapsed": false,
    "pycharm": {
     "name": "#%%\n",
     "is_executing": false
    }
   },
   "execution_count": 1,
   "outputs": [
    {
     "traceback": [
      "\u001b[1;36m  File \u001b[1;32m\"<ipython-input-1-5ad9ce22c23c>\"\u001b[1;36m, line \u001b[1;32m17\u001b[0m\n\u001b[1;33m    prev = nums[0]\u001b[0m\n\u001b[1;37m       ^\u001b[0m\n\u001b[1;31mIndentationError\u001b[0m\u001b[1;31m:\u001b[0m expected an indented block\n"
     ],
     "ename": "IndentationError",
     "evalue": "expected an indented block (<ipython-input-1-5ad9ce22c23c>, line 17)",
     "output_type": "error"
    }
   ]
  },
  {
   "cell_type": "code",
   "source": [],
   "metadata": {
    "collapsed": false,
    "pycharm": {
     "name": "#%%\n"
    }
   },
   "execution_count": null,
   "outputs": []
  }
 ],
 "metadata": {
  "kernelspec": {
   "display_name": "Python 3",
   "language": "python",
   "name": "python3"
  },
  "language_info": {
   "codemirror_mode": {
    "name": "ipython",
    "version": 2
   },
   "file_extension": ".py",
   "mimetype": "text/x-python",
   "name": "python",
   "nbconvert_exporter": "python",
   "pygments_lexer": "ipython2",
   "version": "2.7.6"
  },
  "pycharm": {
   "stem_cell": {
    "cell_type": "raw",
    "source": [],
    "metadata": {
     "collapsed": false
    }
   }
  }
 },
 "nbformat": 4,
 "nbformat_minor": 0
}