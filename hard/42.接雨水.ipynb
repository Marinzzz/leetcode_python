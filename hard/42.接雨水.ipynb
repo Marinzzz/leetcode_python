{
 "cells": [
  {
   "cell_type": "code",
   "execution_count": 21,
   "metadata": {
    "collapsed": true,
    "pycharm": {
     "is_executing": false
    }
   },
   "outputs": [
    {
     "name": "stdout",
     "text": [
      "[2, 2, 2]\n",
      "[2, 2, 2]\n",
      "2\n"
     ],
     "output_type": "stream"
    }
   ],
   "source": [
    "height = [2,0,2]\n",
    "ret = 0\n",
    "max_left = [0] * len(height)\n",
    "max_right = [0] * len(height)\n",
    "max_left[0] = height[0]\n",
    "max_right[len(height) - 1] = height[-1]\n",
    "for i in range(1,len(height)):\n",
    "    max_left[i] = max(max_left[i - 1], height[i])\n",
    "for i in range(len(height) - 2, -1, -1):\n",
    "    max_right[i] = max(max_right[i + 1], height[i])\n",
    "print(max_left)\n",
    "print(max_right)\n",
    "for i in range(len(height)):\n",
    "    ret += min(max_left[i],max_right[i]) - height[i]\n",
    "print(ret)\n"
   ]
  },
  {
   "cell_type": "code",
   "execution_count": 19,
   "outputs": [
    {
     "name": "stdout",
     "text": [
      "0\n",
      "1\n",
      "2\n",
      "3\n",
      "4\n",
      "5\n",
      "6\n",
      "7\n",
      "8\n",
      "9\n"
     ],
     "output_type": "stream"
    }
   ],
   "source": [
    "for i in range(10):\n",
    "    print(i)\n",
    "\n"
   ],
   "metadata": {
    "collapsed": false,
    "pycharm": {
     "name": "#%%\n",
     "is_executing": false
    }
   }
  }
 ],
 "metadata": {
  "kernelspec": {
   "display_name": "Python 3",
   "language": "python",
   "name": "python3"
  },
  "language_info": {
   "codemirror_mode": {
    "name": "ipython",
    "version": 2
   },
   "file_extension": ".py",
   "mimetype": "text/x-python",
   "name": "python",
   "nbconvert_exporter": "python",
   "pygments_lexer": "ipython2",
   "version": "2.7.6"
  },
  "pycharm": {
   "stem_cell": {
    "cell_type": "raw",
    "source": [],
    "metadata": {
     "collapsed": false
    }
   }
  }
 },
 "nbformat": 4,
 "nbformat_minor": 0
}