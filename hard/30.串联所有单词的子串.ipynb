{
 "cells": [
  {
   "cell_type": "markdown",
   "metadata": {
    "collapsed": true,
    "pycharm": {
     "name": "#%% md\n"
    }
   },
   "source": [
    "题型：待定  \n",
    "思路1：递归找到words中能形成的所有子串，然后一一进行尝试,这种写法会超时\n",
    "思路2：从0开始，每次截取长度为n的子串,n为words中所有单词长度和，然后Counter\n",
    "一下，与words的Counter进行对比。这种方法不会超时，但也比较慢"
   ]
  },
  {
   "cell_type": "code",
   "execution_count": 2,
   "outputs": [],
   "source": [
    "# 方法1\n",
    "record = []\n",
    "def GetAllSubstring(str_list, depth):\n",
    "    if depth == len(str_list) - 1:\n",
    "        record.append(''.join(str_list))     \n",
    "    for i in range(depth ,len(str_list)):\n",
    "        temp = [x for x in str_list]\n",
    "        change_one = temp[i]\n",
    "        temp[i] = temp[depth]\n",
    "        temp[depth] =change_one\n",
    "        GetAllSubstring(temp, depth + 1)"
   ],
   "metadata": {
    "collapsed": false,
    "pycharm": {
     "name": "#%%\n",
     "is_executing": false
    }
   }
  },
  {
   "cell_type": "code",
   "execution_count": null,
   "outputs": [],
   "source": [
    "#方法二\n",
    "class Solution:\n",
    "    def findSubstring(self, s, words):\n",
    "        ret = []\n",
    "        if not words:\n",
    "            return ret\n",
    "        import collections\n",
    "        word_dic = collections.Counter(words)\n",
    "        len_word = len(words[0])\n",
    "        length = len(''.join(words))\n",
    "        for i in range(0, len(s) - length + 1):\n",
    "            temp = s[i: i + length]\n",
    "            import re\n",
    "            temp_arr = re.findall(r'.{%d}' % len_word, temp)\n",
    "            flag = 0\n",
    "            temp_dict = collections.Counter(temp_arr)\n",
    "            for key, value in temp_dict.items():\n",
    "                if value > word_dic[key]:\n",
    "                    flag = 1\n",
    "                    break\n",
    "            if not flag:\n",
    "                ret.append(i)\n",
    "        return ret\n",
    "str_list = ['A', 'B', 'C', 'D']\n",
    "l = GetAllSubstring(str_list, 0)"
   ],
   "metadata": {
    "collapsed": false,
    "pycharm": {
     "name": "#%%\n"
    }
   }
  },
  {
   "cell_type": "code",
   "execution_count": null,
   "outputs": [],
   "source": [],
   "metadata": {
    "collapsed": false,
    "pycharm": {
     "name": "#%%\n"
    }
   }
  }
 ],
 "metadata": {
  "kernelspec": {
   "display_name": "Python 3",
   "language": "python",
   "name": "python3"
  },
  "language_info": {
   "codemirror_mode": {
    "name": "ipython",
    "version": 2
   },
   "file_extension": ".py",
   "mimetype": "text/x-python",
   "name": "python",
   "nbconvert_exporter": "python",
   "pygments_lexer": "ipython2",
   "version": "2.7.6"
  },
  "pycharm": {
   "stem_cell": {
    "cell_type": "raw",
    "source": [],
    "metadata": {
     "collapsed": false
    }
   }
  }
 },
 "nbformat": 4,
 "nbformat_minor": 0
}