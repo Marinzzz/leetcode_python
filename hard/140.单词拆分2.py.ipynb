{
 "cells": [
  {
   "cell_type": "markdown",
   "source": [
    "题型：DP 或者 记忆化回搜索"
   ],
   "metadata": {
    "collapsed": false,
    "pycharm": {
     "name": "#%% md\n"
    }
   }
  },
  {
   "cell_type": "markdown",
   "source": [
    "记忆化搜索，这种需要记忆好递归过程中，并且结果带有一定格式的递归\n",
    "都比较难以设计，因为他不是最终输出一个数，而是输出一个带有格式的字符串。  \n",
    "目前我做递归的一个弱项就是不能有效地利用递归return的信息，习惯用一个全局变\n",
    "量记录结果  "
   ],
   "metadata": {
    "collapsed": false,
    "pycharm": {
     "name": "#%% md\n"
    }
   }
  },
  {
   "cell_type": "markdown",
   "source": [
    "dp思路  \n",
    "初始化"
   ],
   "metadata": {
    "collapsed": false,
    "pycharm": {
     "name": "#%% md\n"
    }
   }
  },
  {
   "cell_type": "code",
   "execution_count": null,
   "outputs": [],
   "source": [
    "s = \"\"\n",
    "WordDic = []\n",
    "dp = [[] for i in range(s)]\n",
    "dp[0] = [\"\"]"
   ],
   "metadata": {
    "collapsed": false,
    "pycharm": {
     "name": "#%%\n"
    }
   }
  },
  {
   "cell_type": "markdown",
   "source": [
    "这道题的状态转换比较特殊  \n",
    "dp[i] 和 dp[0]~dp[i - 1]都有着关系"
   ],
   "metadata": {
    "collapsed": false,
    "pycharm": {
     "name": "#%% md\n"
    }
   }
  },
  {
   "cell_type": "code",
   "execution_count": null,
   "outputs": [],
   "source": [
    "for i in range(1, len(s) + 1):\n",
    "    temp = []\n",
    "    for j in range(0, i):\n",
    "        if dp[j].size() > 0 and s[i:j] in WordDic:\n",
    "            for word in dp[j]:\n",
    "                mid = \"\" if word == \"\" else \" \"\n",
    "                temp.append(word + mid + s[j:i])\n",
    "    dp[i] = temp\n",
    "print(dp[len(s)])\n",
    "                "
   ],
   "metadata": {
    "collapsed": false,
    "pycharm": {
     "name": "#%%\n"
    }
   }
  }
 ],
 "metadata": {
  "kernelspec": {
   "display_name": "Python 3",
   "language": "python",
   "name": "python3"
  },
  "language_info": {
   "codemirror_mode": {
    "name": "ipython",
    "version": 2
   },
   "file_extension": ".py",
   "mimetype": "text/x-python",
   "name": "python",
   "nbconvert_exporter": "python",
   "pygments_lexer": "ipython2",
   "version": "2.7.6"
  },
  "pycharm": {
   "stem_cell": {
    "cell_type": "raw",
    "source": [],
    "metadata": {
     "collapsed": false
    }
   }
  }
 },
 "nbformat": 4,
 "nbformat_minor": 0
}