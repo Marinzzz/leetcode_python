{
 "cells": [
  {
   "cell_type": "markdown",
   "metadata": {
    "collapsed": true,
    "pycharm": {
     "name": "#%% md\n"
    }
   },
   "source": [
    "题型  \n",
    "第一感觉不是动态规划\n",
    "\n",
    "\n",
    "\n",
    "进行bfs\n",
    "\n",
    "如果切割一下以后是回文字符，则继续，保证一层层的遍历\n",
    "\n",
    "这种是会超时的\n",
    "\n",
    "看题解才发现。。。wdnmd，真就万物均可动态规划呗\n",
    "\n",
    "dp[i] 表示s[0:i] 切割成回文字符串组需要多少次  \n",
    "\n",
    "初始化\n",
    "dp = [i for i in range(s)] \n",
    "dp[0] = 0\n",
    "\n",
    "状态转移\n",
    "\n",
    "对于dp[i]\n",
    "s[0:i]是回文，则为0  \n",
    "不是的话，循环向前遍历"
   ]
  },
  {
   "cell_type": "code",
   "execution_count": null,
   "outputs": [],
   "source": [
    "for j in range(s,)\n"
   ],
   "metadata": {
    "collapsed": false,
    "pycharm": {
     "name": "#%%\n"
    }
   }
  }
 ],
 "metadata": {
  "kernelspec": {
   "display_name": "Python 3",
   "language": "python",
   "name": "python3"
  },
  "language_info": {
   "codemirror_mode": {
    "name": "ipython",
    "version": 2
   },
   "file_extension": ".py",
   "mimetype": "text/x-python",
   "name": "python",
   "nbconvert_exporter": "python",
   "pygments_lexer": "ipython2",
   "version": "2.7.6"
  },
  "pycharm": {
   "stem_cell": {
    "cell_type": "raw",
    "source": [],
    "metadata": {
     "collapsed": false
    }
   }
  }
 },
 "nbformat": 4,
 "nbformat_minor": 0
}