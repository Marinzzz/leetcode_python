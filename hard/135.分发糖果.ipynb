{
 "cells": [
  {
   "cell_type": "markdown",
   "source": [
    "思考：\n",
    "感觉像是一道dp题\n",
    "先按照dp的思路来一下\n",
    "初始化  \n",
    "dp = [1] * len(ratings)\n",
    "if len(dp) == 1:\n",
    "    return 1\n",
    "dp[0] = 2 if dp[1] > dp[0]\n",
    "\n",
    "状态转移\n",
    "for i in range(1, len(dp))\n",
    "\n",
    "dp[i] < dp[i - 1]\n",
    "\n",
    "dp完毕之后还要从尾到头遍历一遍\n",
    "这种dp也是第一次见\n",
    "    "
   ],
   "metadata": {
    "collapsed": false,
    "pycharm": {
     "name": "#%% md\n"
    }
   }
  }
 ],
 "metadata": {
  "kernelspec": {
   "display_name": "Python 3",
   "language": "python",
   "name": "python3"
  },
  "language_info": {
   "codemirror_mode": {
    "name": "ipython",
    "version": 2
   },
   "file_extension": ".py",
   "mimetype": "text/x-python",
   "name": "python",
   "nbconvert_exporter": "python",
   "pygments_lexer": "ipython2",
   "version": "2.7.6"
  },
  "pycharm": {
   "stem_cell": {
    "cell_type": "raw",
    "source": [],
    "metadata": {
     "collapsed": false
    }
   }
  }
 },
 "nbformat": 4,
 "nbformat_minor": 0
}