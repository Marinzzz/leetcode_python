{
 "cells": [
  {
   "cell_type": "markdown",
   "metadata": {
    "collapsed": true,
    "pycharm": {
     "name": "#%% md\n"
    }
   },
   "source": [
    "这道题我的思路就是先把他转换成后缀表达式然后进行求值\n",
    "\n",
    "后缀表达式求值非常简单，就不做赘述\n",
    "\n",
    "中缀表达式转后缀表达式  \n",
    "今天对中缀表达式有了新的理解，中缀表达式实际上就是维护一个运算符等级递增的一个递增栈  \n",
    "为什么栈内的相同的符号的优先级要比栈外的高？ 因为运算的优先级是从左到右。 \n",
    "为什么遇见左括号可以直接入栈，因为我们总是先计算括号内的运算符。\n",
    "我们在遇到数的时候直接输出\n",
    "遇到操作符号时，+ - * /\n",
    "将它们和栈内的操作符进行比较，同等级操作符的情况下我们认为栈内的操作符等级更高。  \n",
    "如果栈内符号优先级更高的化我们就把它出栈（计算）。\n",
    "\n",
    "遇到左括号的时候我们直接入栈，因为我们优先计算括号里的内容。\n",
    "遇到右括号的时候我们不停的把元素出栈，因为这一个括号内的运算完毕了，知道栈顶是左括号时，我们把左括号出栈后 从\n",
    "继续遍历下一个元素\n",
    "这里我又产生了一个疑问\n",
    "\n",
    "java中是否又一种类似list中的结构\n",
    "它既可以存储字符。也可以存储一个整数\n",
    "\n",
    "\n",
    "\n",
    "\n"
   ]
  }
 ],
 "metadata": {
  "kernelspec": {
   "display_name": "Python 3",
   "language": "python",
   "name": "python3"
  },
  "language_info": {
   "codemirror_mode": {
    "name": "ipython",
    "version": 2
   },
   "file_extension": ".py",
   "mimetype": "text/x-python",
   "name": "python",
   "nbconvert_exporter": "python",
   "pygments_lexer": "ipython2",
   "version": "2.7.6"
  },
  "pycharm": {
   "stem_cell": {
    "cell_type": "raw",
    "source": [],
    "metadata": {
     "collapsed": false
    }
   }
  }
 },
 "nbformat": 4,
 "nbformat_minor": 0
}